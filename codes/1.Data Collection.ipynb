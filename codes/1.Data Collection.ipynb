{
 "cells": [
  {
   "cell_type": "markdown",
   "id": "presidential-theta",
   "metadata": {
    "toc": true
   },
   "source": [
    "<h1>Table of Contents<span class=\"tocSkip\"></span></h1>\n",
    "<div class=\"toc\"><ul class=\"toc-item\"><li><span><a href=\"#Data-Collection\" data-toc-modified-id=\"Data-Collection-1\"><span class=\"toc-item-num\">1&nbsp;&nbsp;</span>Data Collection</a></span></li></ul></div>"
   ]
  },
  {
   "cell_type": "markdown",
   "id": "substantial-truth",
   "metadata": {},
   "source": [
    "# Data Collection"
   ]
  },
  {
   "cell_type": "code",
   "execution_count": null,
   "id": "competent-audit",
   "metadata": {},
   "outputs": [],
   "source": [
    "# Import the libraries\n",
    "import pandas as pd\n",
    "import os\n",
    "\n",
    "# Change the directory\n",
    "os.chdir(\"C:/Users/saite/PycharmProjects/py38/0.GH/Chicago-Bears-Analysis\")\n",
    "\n",
    "# Pull the win-loss ratio table\n",
    "win_los_wiki = 'https://en.wikipedia.org/wiki/Super_Bowl'\n",
    "win_los_info = pd.read_html(win_los_wiki,header=0)\n",
    "win_los_tm = pd.DataFrame(win_los_info[4])\n",
    "win_los_tm.to_csv(\"./data/win_los_tm.csv\",index=False)\n",
    "\n",
    "# Chicago Bears Data\n",
    "url = 'https://www.chicagobears.com/team/players-roster/'\n"
   ]
  }
 ],
 "metadata": {
  "kernelspec": {
   "display_name": "Python 3",
   "language": "python",
   "name": "python3"
  },
  "language_info": {
   "codemirror_mode": {
    "name": "ipython",
    "version": 3
   },
   "file_extension": ".py",
   "mimetype": "text/x-python",
   "name": "python",
   "nbconvert_exporter": "python",
   "pygments_lexer": "ipython3",
   "version": "3.8.8"
  },
  "toc": {
   "base_numbering": 1,
   "nav_menu": {},
   "number_sections": true,
   "sideBar": true,
   "skip_h1_title": false,
   "title_cell": "Table of Contents",
   "title_sidebar": "Contents",
   "toc_cell": true,
   "toc_position": {},
   "toc_section_display": true,
   "toc_window_display": true
  }
 },
 "nbformat": 4,
 "nbformat_minor": 5
}
