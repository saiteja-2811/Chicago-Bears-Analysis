{
 "cells": [
  {
   "cell_type": "markdown",
   "id": "presidential-theta",
   "metadata": {
    "toc": true
   },
   "source": [
    "<h1>Table of Contents<span class=\"tocSkip\"></span></h1>\n",
    "<div class=\"toc\"><ul class=\"toc-item\"><li><span><a href=\"#Wiki---Facts\" data-toc-modified-id=\"Wiki---Facts-1\"><span class=\"toc-item-num\">1&nbsp;&nbsp;</span>Wiki - Facts</a></span></li><li><span><a href=\"#NFL.com-&amp;-ESPN\" data-toc-modified-id=\"NFL.com-&amp;-ESPN-2\"><span class=\"toc-item-num\">2&nbsp;&nbsp;</span>NFL.com &amp; ESPN</a></span><ul class=\"toc-item\"><li><span><a href=\"#Bears-2022-Roster\" data-toc-modified-id=\"Bears-2022-Roster-2.1\"><span class=\"toc-item-num\">2.1&nbsp;&nbsp;</span>Bears 2022 Roster</a></span></li><li><span><a href=\"#Super-Bowl-Data\" data-toc-modified-id=\"Super-Bowl-Data-2.2\"><span class=\"toc-item-num\">2.2&nbsp;&nbsp;</span>Super Bowl Data</a></span></li><li><span><a href=\"#Team-Level\" data-toc-modified-id=\"Team-Level-2.3\"><span class=\"toc-item-num\">2.3&nbsp;&nbsp;</span>Team Level</a></span><ul class=\"toc-item\"><li><span><a href=\"#Offense-Data\" data-toc-modified-id=\"Offense-Data-2.3.1\"><span class=\"toc-item-num\">2.3.1&nbsp;&nbsp;</span>Offense Data</a></span></li><li><span><a href=\"#Defense-Data\" data-toc-modified-id=\"Defense-Data-2.3.2\"><span class=\"toc-item-num\">2.3.2&nbsp;&nbsp;</span>Defense Data</a></span></li><li><span><a href=\"#Special-Teams-Data\" data-toc-modified-id=\"Special-Teams-Data-2.3.3\"><span class=\"toc-item-num\">2.3.3&nbsp;&nbsp;</span>Special Teams Data</a></span></li></ul></li><li><span><a href=\"#Player-Level\" data-toc-modified-id=\"Player-Level-2.4\"><span class=\"toc-item-num\">2.4&nbsp;&nbsp;</span>Player Level</a></span></li></ul></li></ul></div>"
   ]
  },
  {
   "cell_type": "markdown",
   "id": "substantial-truth",
   "metadata": {},
   "source": [
    "# Wiki - Facts"
   ]
  },
  {
   "cell_type": "code",
   "execution_count": 2,
   "id": "placed-experiment",
   "metadata": {},
   "outputs": [],
   "source": [
    "# Import the libraries\n",
    "import pandas as pd\n",
    "import os\n",
    "import numpy as np\n",
    "import requests\n",
    "import urllib.request\n",
    "import time\n",
    "from bs4 import BeautifulSoup"
   ]
  },
  {
   "cell_type": "code",
   "execution_count": 3,
   "id": "competent-audit",
   "metadata": {},
   "outputs": [],
   "source": [
    "# Change the directory\n",
    "os.chdir(\"C:/Users/saite/PycharmProjects/py38/0.GH/Chicago-Bears-Analysis\")"
   ]
  },
  {
   "cell_type": "code",
   "execution_count": 51,
   "id": "weighted-commons",
   "metadata": {},
   "outputs": [
    {
     "data": {
      "text/html": [
       "<div>\n",
       "<style scoped>\n",
       "    .dataframe tbody tr th:only-of-type {\n",
       "        vertical-align: middle;\n",
       "    }\n",
       "\n",
       "    .dataframe tbody tr th {\n",
       "        vertical-align: top;\n",
       "    }\n",
       "\n",
       "    .dataframe thead th {\n",
       "        text-align: right;\n",
       "    }\n",
       "</style>\n",
       "<table border=\"1\" class=\"dataframe\">\n",
       "  <thead>\n",
       "    <tr style=\"text-align: right;\">\n",
       "      <th></th>\n",
       "      <th>Team</th>\n",
       "      <th>Wins</th>\n",
       "      <th>Losses</th>\n",
       "      <th>Winning %</th>\n",
       "    </tr>\n",
       "  </thead>\n",
       "  <tbody>\n",
       "    <tr>\n",
       "      <th>0</th>\n",
       "      <td>New England Patriots</td>\n",
       "      <td>6</td>\n",
       "      <td>5</td>\n",
       "      <td>55</td>\n",
       "    </tr>\n",
       "    <tr>\n",
       "      <th>1</th>\n",
       "      <td>Pittsburgh Steelers</td>\n",
       "      <td>6</td>\n",
       "      <td>2</td>\n",
       "      <td>75</td>\n",
       "    </tr>\n",
       "    <tr>\n",
       "      <th>2</th>\n",
       "      <td>Dallas Cowboys</td>\n",
       "      <td>5</td>\n",
       "      <td>3</td>\n",
       "      <td>63</td>\n",
       "    </tr>\n",
       "    <tr>\n",
       "      <th>3</th>\n",
       "      <td>San Francisco 49ers</td>\n",
       "      <td>5</td>\n",
       "      <td>2</td>\n",
       "      <td>71</td>\n",
       "    </tr>\n",
       "    <tr>\n",
       "      <th>4</th>\n",
       "      <td>Green Bay Packers</td>\n",
       "      <td>4</td>\n",
       "      <td>1</td>\n",
       "      <td>80</td>\n",
       "    </tr>\n",
       "  </tbody>\n",
       "</table>\n",
       "</div>"
      ],
      "text/plain": [
       "                   Team  Wins  Losses Winning %\n",
       "0  New England Patriots     6       5        55\n",
       "1   Pittsburgh Steelers     6       2        75\n",
       "2        Dallas Cowboys     5       3        63\n",
       "3   San Francisco 49ers     5       2        71\n",
       "4     Green Bay Packers     4       1        80"
      ]
     },
     "execution_count": 51,
     "metadata": {},
     "output_type": "execute_result"
    }
   ],
   "source": [
    "# Pull the win-loss ratio table\n",
    "win_los_wiki = 'https://en.wikipedia.org/wiki/Super_Bowl'\n",
    "win_los_info = pd.read_html(win_los_wiki,header=0)\n",
    "win_los_info_df = pd.DataFrame(win_los_info[4])\n",
    "win_los_info_df.to_csv(\"./data/win_los_info_df.csv\",index=False)\n",
    "win_los_info_df.head()"
   ]
  },
  {
   "cell_type": "markdown",
   "id": "accompanied-parameter",
   "metadata": {},
   "source": [
    "# NFL.com & ESPN"
   ]
  },
  {
   "cell_type": "markdown",
   "id": "exact-elevation",
   "metadata": {},
   "source": [
    "## Bears 2022 Roster"
   ]
  },
  {
   "cell_type": "code",
   "execution_count": 52,
   "id": "friendly-origin",
   "metadata": {},
   "outputs": [
    {
     "data": {
      "text/html": [
       "<div>\n",
       "<style scoped>\n",
       "    .dataframe tbody tr th:only-of-type {\n",
       "        vertical-align: middle;\n",
       "    }\n",
       "\n",
       "    .dataframe tbody tr th {\n",
       "        vertical-align: top;\n",
       "    }\n",
       "\n",
       "    .dataframe thead th {\n",
       "        text-align: right;\n",
       "    }\n",
       "</style>\n",
       "<table border=\"1\" class=\"dataframe\">\n",
       "  <thead>\n",
       "    <tr style=\"text-align: right;\">\n",
       "      <th></th>\n",
       "      <th>Player</th>\n",
       "      <th>No</th>\n",
       "      <th>Pos</th>\n",
       "      <th>Status</th>\n",
       "      <th>Height</th>\n",
       "      <th>Weight</th>\n",
       "      <th>Experience</th>\n",
       "      <th>College</th>\n",
       "    </tr>\n",
       "  </thead>\n",
       "  <tbody>\n",
       "    <tr>\n",
       "      <th>0</th>\n",
       "      <td>Josh Woods</td>\n",
       "      <td>55</td>\n",
       "      <td>LB</td>\n",
       "      <td>ACT</td>\n",
       "      <td>6-1</td>\n",
       "      <td>236</td>\n",
       "      <td>3</td>\n",
       "      <td>Maryland</td>\n",
       "    </tr>\n",
       "    <tr>\n",
       "      <th>1</th>\n",
       "      <td>Javon Wims</td>\n",
       "      <td>15</td>\n",
       "      <td>WR</td>\n",
       "      <td>ACT</td>\n",
       "      <td>6-2</td>\n",
       "      <td>221</td>\n",
       "      <td>4</td>\n",
       "      <td>Georgia</td>\n",
       "    </tr>\n",
       "    <tr>\n",
       "      <th>2</th>\n",
       "      <td>Damien Williams</td>\n",
       "      <td>8</td>\n",
       "      <td>RB</td>\n",
       "      <td>ACT</td>\n",
       "      <td>5-11</td>\n",
       "      <td>221</td>\n",
       "      <td>7</td>\n",
       "      <td>Oklahoma</td>\n",
       "    </tr>\n",
       "    <tr>\n",
       "      <th>3</th>\n",
       "      <td>Elijah Wilkinson</td>\n",
       "      <td>70</td>\n",
       "      <td>OT</td>\n",
       "      <td>ACT</td>\n",
       "      <td>6-4</td>\n",
       "      <td>329</td>\n",
       "      <td>5</td>\n",
       "      <td>Massachusetts</td>\n",
       "    </tr>\n",
       "    <tr>\n",
       "      <th>4</th>\n",
       "      <td>Cody Whitehair</td>\n",
       "      <td>65</td>\n",
       "      <td>C</td>\n",
       "      <td>ACT</td>\n",
       "      <td>6-3</td>\n",
       "      <td>309</td>\n",
       "      <td>6</td>\n",
       "      <td>Kansas State</td>\n",
       "    </tr>\n",
       "  </tbody>\n",
       "</table>\n",
       "</div>"
      ],
      "text/plain": [
       "             Player  No Pos Status Height  Weight Experience        College\n",
       "0        Josh Woods  55  LB    ACT    6-1     236          3       Maryland\n",
       "1        Javon Wims  15  WR    ACT    6-2     221          4        Georgia\n",
       "2   Damien Williams   8  RB    ACT   5-11     221          7       Oklahoma\n",
       "3  Elijah Wilkinson  70  OT    ACT    6-4     329          5  Massachusetts\n",
       "4    Cody Whitehair  65   C    ACT    6-3     309          6   Kansas State"
      ]
     },
     "execution_count": 52,
     "metadata": {},
     "output_type": "execute_result"
    }
   ],
   "source": [
    "# Pull the rosters data\n",
    "cb_roster_nfl = 'https://www.nfl.com/teams/chicago-bears/roster'\n",
    "cb_roster_info = pd.read_html(cb_roster_nfl,header=0)\n",
    "cb_roster_info_df = pd.DataFrame(cb_roster_info[0])\n",
    "cb_roster_info_df.to_csv(\"./data/cb_roster_info_df.csv\",index=False)\n",
    "cb_roster_info_df.head()"
   ]
  },
  {
   "cell_type": "markdown",
   "id": "dedicated-rotation",
   "metadata": {},
   "source": [
    "## Super Bowl Data"
   ]
  },
  {
   "cell_type": "code",
   "execution_count": 53,
   "id": "sporting-sending",
   "metadata": {},
   "outputs": [
    {
     "data": {
      "text/html": [
       "<div>\n",
       "<style scoped>\n",
       "    .dataframe tbody tr th:only-of-type {\n",
       "        vertical-align: middle;\n",
       "    }\n",
       "\n",
       "    .dataframe tbody tr th {\n",
       "        vertical-align: top;\n",
       "    }\n",
       "\n",
       "    .dataframe thead th {\n",
       "        text-align: right;\n",
       "    }\n",
       "</style>\n",
       "<table border=\"1\" class=\"dataframe\">\n",
       "  <thead>\n",
       "    <tr style=\"text-align: right;\">\n",
       "      <th></th>\n",
       "      <th>NO.</th>\n",
       "      <th>DATE</th>\n",
       "      <th>SITE</th>\n",
       "      <th>RESULT</th>\n",
       "    </tr>\n",
       "  </thead>\n",
       "  <tbody>\n",
       "    <tr>\n",
       "      <th>50</th>\n",
       "      <td>LI</td>\n",
       "      <td>Feb. 5, 2017</td>\n",
       "      <td>NRG Stadium (Houston)</td>\n",
       "      <td>New England 34, Atlanta 28</td>\n",
       "    </tr>\n",
       "    <tr>\n",
       "      <th>51</th>\n",
       "      <td>LII</td>\n",
       "      <td>Feb. 4, 2018</td>\n",
       "      <td>U.S. Bank Stadium (Minneapolis)</td>\n",
       "      <td>Philadelphia 41, New England 33</td>\n",
       "    </tr>\n",
       "    <tr>\n",
       "      <th>52</th>\n",
       "      <td>LIII</td>\n",
       "      <td>Feb. 3, 2019</td>\n",
       "      <td>Mercedes-Benz Stadium (Atlanta)</td>\n",
       "      <td>New England 13, Los Angeles Rams 3</td>\n",
       "    </tr>\n",
       "    <tr>\n",
       "      <th>53</th>\n",
       "      <td>LIV</td>\n",
       "      <td>Feb. 2, 2020</td>\n",
       "      <td>Hard Rock Stadium (Miami)</td>\n",
       "      <td>Kansas City 31, San Francisco 20</td>\n",
       "    </tr>\n",
       "    <tr>\n",
       "      <th>54</th>\n",
       "      <td>LV</td>\n",
       "      <td>Feb. 7, 2021</td>\n",
       "      <td>Raymond James Stadium (Tampa, Fla.)</td>\n",
       "      <td>Tampa Bay 31, Kansas City 9</td>\n",
       "    </tr>\n",
       "  </tbody>\n",
       "</table>\n",
       "</div>"
      ],
      "text/plain": [
       "     NO.          DATE                                 SITE  \\\n",
       "50    LI  Feb. 5, 2017                NRG Stadium (Houston)   \n",
       "51   LII  Feb. 4, 2018      U.S. Bank Stadium (Minneapolis)   \n",
       "52  LIII  Feb. 3, 2019      Mercedes-Benz Stadium (Atlanta)   \n",
       "53   LIV  Feb. 2, 2020            Hard Rock Stadium (Miami)   \n",
       "54    LV  Feb. 7, 2021  Raymond James Stadium (Tampa, Fla.)   \n",
       "\n",
       "                                RESULT  \n",
       "50          New England 34, Atlanta 28  \n",
       "51     Philadelphia 41, New England 33  \n",
       "52  New England 13, Los Angeles Rams 3  \n",
       "53    Kansas City 31, San Francisco 20  \n",
       "54         Tampa Bay 31, Kansas City 9  "
      ]
     },
     "execution_count": 53,
     "metadata": {},
     "output_type": "execute_result"
    }
   ],
   "source": [
    "# Pull the rosters data\n",
    "super_bowl_hist_espn = 'http://www.espn.com/nfl/superbowl/history/winners'\n",
    "super_bowl_hist_info = pd.read_html(super_bowl_hist_espn,header=1)\n",
    "super_bowl_hist_info_df = pd.DataFrame(super_bowl_hist_info[0])\n",
    "super_bowl_hist_info_df.to_csv(\"./data/super_bowl_hist_info_df.csv\",index=False)\n",
    "super_bowl_hist_info_df.tail()"
   ]
  },
  {
   "cell_type": "markdown",
   "id": "sacred-anxiety",
   "metadata": {},
   "source": [
    "## Team Level"
   ]
  },
  {
   "cell_type": "code",
   "execution_count": 18,
   "id": "primary-softball",
   "metadata": {},
   "outputs": [],
   "source": [
    "# Strpart 1\n",
    "teamCategory = ['offense','defense','special-teams']\n",
    "\n",
    "# Strpart 2\n",
    "offenseCategory = ['passing','rushing','receiving','scoring','downs']\n",
    "defenseCategory = ['passing','rushing','receiving','scoring','tackles','downs','fumbles','interceptions']\n",
    "specialteamsCategory = ['field-goals','scoring','kickoffs','kickoff-returns','punts','punt-returns']\n",
    "\n",
    "# Strpart 3\n",
    "year = list(np.arange(2007,2021))"
   ]
  },
  {
   "cell_type": "markdown",
   "id": "pharmaceutical-acrobat",
   "metadata": {},
   "source": [
    "### Offense Data"
   ]
  },
  {
   "cell_type": "code",
   "execution_count": 26,
   "id": "proprietary-position",
   "metadata": {},
   "outputs": [],
   "source": [
    "# Pull the offense data\n",
    "for ofctg in offenseCategory:\n",
    "    offense_data = pd.DataFrame()\n",
    "    for yr in year:\n",
    "        offense_nfl = 'https://www.nfl.com/stats/team-stats/offense/'+ofctg+'/'+str(yr)+'/reg/all'\n",
    "        offense_nfl_info = pd.read_html(offense_nfl,header=0)\n",
    "        offense_nfl_info_df = pd.DataFrame(offense_nfl_info[0])\n",
    "        offense_nfl_info_df['Year'] = yr\n",
    "        offense_data = pd.concat([offense_data,offense_nfl_info_df],axis=0)\n",
    "    out_str = \"./data/offense/offense_\"+str(ofctg)+\".csv\"\n",
    "    offense_data.to_csv(out_str,index=False)"
   ]
  },
  {
   "cell_type": "markdown",
   "id": "frozen-bridges",
   "metadata": {},
   "source": [
    "### Defense Data"
   ]
  },
  {
   "cell_type": "code",
   "execution_count": 27,
   "id": "funky-mount",
   "metadata": {
    "scrolled": false
   },
   "outputs": [],
   "source": [
    "# Pull the defense data\n",
    "for dfctg in defenseCategory:\n",
    "    defense_data = pd.DataFrame()\n",
    "    for yr in year:\n",
    "        defense_nfl = 'https://www.nfl.com/stats/team-stats/defense/'+dfctg+'/'+str(yr)+'/reg/all'\n",
    "        defense_nfl_info = pd.read_html(defense_nfl,header=0)\n",
    "        defense_nfl_info_df = pd.DataFrame(defense_nfl_info[0])\n",
    "        defense_nfl_info_df['Year'] = yr\n",
    "        defense_data = pd.concat([defense_data,defense_nfl_info_df],axis=0)\n",
    "    out_str = \"./data/defense/defense_\"+str(dfctg)+\".csv\"\n",
    "    defense_data.to_csv(out_str,index=False)"
   ]
  },
  {
   "cell_type": "markdown",
   "id": "representative-dragon",
   "metadata": {},
   "source": [
    "### Special Teams Data"
   ]
  },
  {
   "cell_type": "code",
   "execution_count": 28,
   "id": "generous-viewer",
   "metadata": {},
   "outputs": [],
   "source": [
    "# Pull the steams data\n",
    "for stctg in specialteamsCategory:\n",
    "    steams_data = pd.DataFrame()\n",
    "    for yr in year:\n",
    "        steams_nfl = 'https://www.nfl.com/stats/team-stats/special-teams/'+stctg+'/'+str(yr)+'/reg/all'\n",
    "        steams_nfl_info = pd.read_html(steams_nfl,header=0)\n",
    "        steams_nfl_info_df = pd.DataFrame(steams_nfl_info[0])\n",
    "        steams_nfl_info_df['Year'] = yr\n",
    "        steams_data = pd.concat([steams_data,steams_nfl_info_df],axis=0)\n",
    "    out_str = \"./data/special-teams/steams_\"+str(stctg)+\".csv\"\n",
    "    steams_data.to_csv(out_str,index=False)"
   ]
  },
  {
   "cell_type": "markdown",
   "id": "superior-resource",
   "metadata": {},
   "source": [
    "## Player Level"
   ]
  },
  {
   "cell_type": "code",
   "execution_count": null,
   "id": "protected-repeat",
   "metadata": {},
   "outputs": [],
   "source": [
    "payload = {\"statisticCategory\":statisticCategory.upper(),\"seasonType\":\"REG\",\"d-447263-p\":str(p),\"season\":season}\n",
    "url = 'http://www.nfl.com/stats/categorystats'\n",
    "response = requests.get(url,params=payload)\n",
    "\n",
    "soup = BeautifulSoup(response.text,'html.parser')"
   ]
  }
 ],
 "metadata": {
  "kernelspec": {
   "display_name": "Python 3",
   "language": "python",
   "name": "python3"
  },
  "language_info": {
   "codemirror_mode": {
    "name": "ipython",
    "version": 3
   },
   "file_extension": ".py",
   "mimetype": "text/x-python",
   "name": "python",
   "nbconvert_exporter": "python",
   "pygments_lexer": "ipython3",
   "version": "3.8.8"
  },
  "toc": {
   "base_numbering": 1,
   "nav_menu": {},
   "number_sections": true,
   "sideBar": true,
   "skip_h1_title": false,
   "title_cell": "Table of Contents",
   "title_sidebar": "Contents",
   "toc_cell": true,
   "toc_position": {
    "height": "calc(100% - 180px)",
    "left": "10px",
    "top": "150px",
    "width": "216px"
   },
   "toc_section_display": true,
   "toc_window_display": true
  }
 },
 "nbformat": 4,
 "nbformat_minor": 5
}
